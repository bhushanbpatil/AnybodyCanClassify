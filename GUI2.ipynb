{
 "cells": [
  {
   "cell_type": "code",
   "execution_count": 1,
   "metadata": {},
   "outputs": [
    {
     "name": "stdout",
     "output_type": "stream",
     "text": [
      "hello world!\n"
     ]
    }
   ],
   "source": [
    "print(\"hello world!\")"
   ]
  },
  {
   "cell_type": "code",
   "execution_count": 8,
   "metadata": {
    "scrolled": false
   },
   "outputs": [
    {
     "name": "stderr",
     "output_type": "stream",
     "text": [
      "C:\\Users\\Bhushan\\Anaconda3\\envs\\keras-gpu\\lib\\site-packages\\fastai\\data_block.py:212: UserWarning: `random_split_by_pct` is deprecated, please use `split_by_rand_pct`.\n",
      "  warn(\"`random_split_by_pct` is deprecated, please use `split_by_rand_pct`.\")\n"
     ]
    },
    {
     "name": "stdout",
     "output_type": "stream",
     "text": [
      "C:/Users/Bhushan/Desktop/fastai/course-v3/nbs/dl1/images/rice\n",
      "C:\\Users\\Bhushan\\Desktop\\fastai\\course-v3\\nbs\\dl1\\images\\rice\n"
     ]
    },
    {
     "name": "stderr",
     "output_type": "stream",
     "text": [
      "C:\\Users\\Bhushan\\Anaconda3\\envs\\keras-gpu\\lib\\site-packages\\fastai\\data_block.py:212: UserWarning: `random_split_by_pct` is deprecated, please use `split_by_rand_pct`.\n",
      "  warn(\"`random_split_by_pct` is deprecated, please use `split_by_rand_pct`.\")\n"
     ]
    },
    {
     "name": "stdout",
     "output_type": "stream",
     "text": [
      "1\n"
     ]
    },
    {
     "data": {
      "text/html": [
       "<table border=\"1\" class=\"dataframe\">\n",
       "  <thead>\n",
       "    <tr style=\"text-align: left;\">\n",
       "      <th>epoch</th>\n",
       "      <th>train_loss</th>\n",
       "      <th>valid_loss</th>\n",
       "      <th>accuracy</th>\n",
       "      <th>time</th>\n",
       "    </tr>\n",
       "  </thead>\n",
       "  <tbody>\n",
       "    <tr>\n",
       "      <td>0</td>\n",
       "      <td>0.991956</td>\n",
       "      <td>1.460801</td>\n",
       "      <td>0.599057</td>\n",
       "      <td>04:49</td>\n",
       "    </tr>\n",
       "  </tbody>\n",
       "</table>"
      ],
      "text/plain": [
       "<IPython.core.display.HTML object>"
      ]
     },
     "metadata": {},
     "output_type": "display_data"
    },
    {
     "name": "stdout",
     "output_type": "stream",
     "text": [
      "('C:/Users/Bhushan/Desktop/fastai/course-v3/nbs/dl1/images/rice/White Basmati/IMG_1945.JPG',)\n",
      "[['C:/Users/Bhushan/Desktop/fastai/course-v3/nbs/dl1/images/rice/White Basmati/IMG_1945.JPG', 'White Basmati']]\n"
     ]
    }
   ],
   "source": [
    "%reload_ext autoreload\n",
    "%autoreload 2\n",
    "%matplotlib inline\n",
    "from fastai import *\n",
    "from fastai.vision import *\n",
    "\n",
    "import tkinter as tk\n",
    "from tkinter import *\n",
    "from tkinter.ttk import * \n",
    "from tkinter import filedialog\n",
    "from PIL import ImageDraw, ImageTk\n",
    "from PIL import Image\n",
    "\n",
    "from shutil import copyfile\n",
    "import os\n",
    "\n",
    "\n",
    "\n",
    "\n",
    "root = tk.Tk()\n",
    "frame = tk.Frame(root)\n",
    "frame2 = tk.Frame(root)\n",
    "nextbackframe = tk.Frame(frame, bg='black')\n",
    "frame.pack()\n",
    "bs = 64 #batch size use if slow gpu\n",
    "path = untar_data(r'C:\\Users\\Bhushan\\Desktop\\DJ\\seg_train\\seg_train') #scene data path Default!!\n",
    "tfms = get_transforms(do_flip=True, max_rotate=0, max_zoom=0, max_warp=0) \n",
    "data = (ImageList.from_folder(path).random_split_by_pct().label_from_folder().transform(tfms,size=(150,150)).databunch())\n",
    "learn = cnn_learner(data, models.resnet34, metrics=accuracy)\n",
    "model_name='scene-res34-model1'\n",
    "addVar=[]\n",
    "test_image_path=()\n",
    "ImgNumber=0\n",
    "sliderimagetype='upload'\n",
    "\n",
    "try:\n",
    "    learn.load(model_name)\n",
    "except:\n",
    "    print(\"An exception occurred\")\n",
    "\n",
    "epoch=1\n",
    "\n",
    "def NextImg():\n",
    "    global ImgNumber, test_image_path\n",
    "    if(sliderimagetype=='upload'):\n",
    "        ImgNumber=(ImgNumber+1)%len(test_image_path)\n",
    "        print(ImgNumber)\n",
    "        src=r'{}'.format(test_image_path[ImgNumber])\n",
    "        img = ImageTk.PhotoImage(Image.open(src).resize((350,350), Image.ANTIALIAS))\n",
    "        l.config(image=img)\n",
    "        l.photo=img\n",
    "    elif(sliderimagetype=='classified'):\n",
    "        ImgNumber=(ImgNumber+1)%len(test_image_path)\n",
    "        print(ImgNumber)\n",
    "        src=r'{}'.format(addVar[ImgNumber][0])\n",
    "        img = ImageTk.PhotoImage(Image.open(src).resize((350,350), Image.ANTIALIAS))\n",
    "        l.config(image=img)\n",
    "        l.photo=img\n",
    "        \n",
    "        imgLabel.delete('1.0', END)\n",
    "        imgLabel.insert(END, addVar[ImgNumber][1])\n",
    "\n",
    "def PrevImg():\n",
    "    global ImgNumber, test_image_path\n",
    "    if(sliderimagetype=='upload'):\n",
    "        ImgNumber=(ImgNumber-1)%len(test_image_path)\n",
    "        print(ImgNumber)\n",
    "        src=r'{}'.format(test_image_path[ImgNumber])\n",
    "        img = ImageTk.PhotoImage(Image.open(src).resize((350,350), Image.ANTIALIAS))\n",
    "        l.config(image=img)\n",
    "        l.photo=img\n",
    "    elif(sliderimagetype=='classified'):\n",
    "        ImgNumber=(ImgNumber-1)%len(test_image_path)\n",
    "        print(ImgNumber)\n",
    "        src=r'{}'.format(addVar[ImgNumber][0])\n",
    "        img = ImageTk.PhotoImage(Image.open(src).resize((350,350), Image.ANTIALIAS))\n",
    "        l.config(image=img)\n",
    "        l.photo=img\n",
    "        \n",
    "        imgLabel.delete('1.0', END)\n",
    "        imgLabel.insert(END, addVar[ImgNumber][1])\n",
    "\n",
    "\n",
    "def Upload():\n",
    "    global test_image_path, ImgCycle,sliderimagetype\n",
    "    test_image_path=()\n",
    "    test_image_path = filedialog.askopenfilenames()\n",
    "    print(test_image_path)\n",
    "    ImgNumber=0\n",
    "    src=r'{}'.format(test_image_path[0])\n",
    "    img = ImageTk.PhotoImage(Image.open(src).resize((350,350), Image.ANTIALIAS))\n",
    "    l.config(image=img)\n",
    "    l.photo=img\n",
    "    sliderimagetype='upload'\n",
    "    Terminal1.config(state=NORMAL)\n",
    "    Terminal1.delete('1.0', END)\n",
    "    Terminal1.insert(END, 'Uploaded!')\n",
    "    Terminal1.config(state=DISABLED)\n",
    "\n",
    "\n",
    "def Classify():\n",
    "    global addVar,sliderimagetype\n",
    "    addVar=[]\n",
    "    for i in test_image_path:\n",
    "        temp_path=r'{}'.format(i)\n",
    "        img = open_image(temp_path).resize(150)\n",
    "        arr=learn.predict(img)\n",
    "        addVar.append([i,str(arr[0])])\n",
    "        print(addVar)\n",
    "    sliderimagetype='classified'\n",
    "    ImgNumber=0\n",
    "    src=r'{}'.format(addVar[0][0])\n",
    "    img = ImageTk.PhotoImage(Image.open(src).resize((350,350), Image.ANTIALIAS))\n",
    "    l.config(image=img)\n",
    "    l.photo=img\n",
    " \n",
    "    imgLabel.delete('1.0', END)\n",
    "    imgLabel.insert(END, addVar[0][1])\n",
    "    Terminal1.config(state=NORMAL)\n",
    "    Terminal1.delete('1.0', END)\n",
    "    Terminal1.insert(END, 'Success!')\n",
    "    Terminal1.config(state=DISABLED)\n",
    "        \n",
    "def Addandtrain():\n",
    "    global addVar\n",
    "    for i in addVar:\n",
    "#         src= r'{}'.format(i[0])\n",
    "#         dst = 'C:\\\\Users\\\\Bhushan\\\\Desktop\\\\DJ\\\\tryfolder\\\\'+i[1]\n",
    "#         dst= r'{}'.format(dst)\n",
    "#         shutil.copy2(src, dst)\n",
    "        src= r'{}'.format(i[0])\n",
    "        dst = 'C:/Users/Bhushan/Desktop/DJ/tryfolder/'+i[1]\n",
    "        dst= r'{}'.format(dst)\n",
    "        print(src,dst)\n",
    "        shutil.copy2(src, dst)\n",
    "        Terminal1.config(state=NORMAL)\n",
    "        Terminal1.delete('1.0', END)\n",
    "        Terminal1.insert(END, 'Data Added!')\n",
    "        Terminal1.config(state=DISABLED)\n",
    "    #C:\\Users\\Bhushan\\Desktop\\DJ\\tryfolder\n",
    "\n",
    "def Advance():\n",
    "    frame.pack_forget()\n",
    "    frame2.pack()\n",
    "\n",
    "def Train():\n",
    "    Terminal2.config(state=NORMAL)\n",
    "    Terminal2.delete('1.0', END)\n",
    "    Terminal2.insert(END, 'Training please wait...')\n",
    "    Terminal2.config(state=DISABLED)\n",
    "    print(epoch)\n",
    "    learn.fit_one_cycle(epoch)\n",
    "    Terminal2.config(state=NORMAL)\n",
    "    Terminal2.delete('1.0', END)\n",
    "    Terminal2.insert(END, 'Trained!')\n",
    "    Terminal2.config(state=DISABLED)\n",
    "\n",
    "def SaveModel():\n",
    "    learn.save(model_name, return_path=True)\n",
    "    Terminal2.config(state=NORMAL)\n",
    "    Terminal2.delete('1.0', END)\n",
    "    Terminal2.insert(END, 'Saved!')\n",
    "    Terminal2.config(state=DISABLED)\n",
    "\n",
    "def SetLR():\n",
    "    inputText= TextBox.get('1.0', END)\n",
    "    learn.unfreeze()\n",
    "    temp = (float(inputText))\n",
    "    learn.fit_one_cycle(1,temp)\n",
    "    Terminal2.config(state=NORMAL)\n",
    "    Terminal2.delete('1.0', END)\n",
    "    Terminal2.insert(END, 'LR Set:'+inputText)\n",
    "    Terminal2.config(state=DISABLED)\n",
    "    \n",
    "def Epochs():\n",
    "    inputText= TextBoxEpoch.get('1.0', END)\n",
    "    global epoch\n",
    "    epoch = int(inputText)\n",
    "    print(epoch)\n",
    "    Terminal2.config(state=NORMAL)\n",
    "    Terminal2.delete('1.0', END)\n",
    "    Terminal2.insert(END, 'Epoch Set!')\n",
    "    Terminal2.config(state=DISABLED)\n",
    "\n",
    "def NewData():\n",
    "    global bs, path, tfms, data, learn\n",
    "    folder_selected = filedialog.askdirectory()\n",
    "    print(folder_selected)\n",
    "    bs = 64 #batch size use if slow gpu\n",
    "    src=r\"C:\\Users\\Bhushan\\Desktop\\fastai\\course-v3\\nbs\\dl1\\images\\rice\"\n",
    "    print(src)\n",
    "    path = untar_data(src) #New data path!!!!\n",
    "    tfms = get_transforms(do_flip=True, max_rotate=0, max_zoom=0, max_warp=0)\n",
    "    data = (ImageList.from_folder(path).random_split_by_pct().label_from_folder().transform(tfms,size=(150,150)).databunch())\n",
    "    learn = cnn_learner(data, models.resnet34, metrics=accuracy)\n",
    "    Terminal2.config(state=NORMAL)\n",
    "    Terminal2.delete('1.0', END)\n",
    "    Terminal2.insert(END, 'New Data, Please Train*')\n",
    "    Terminal2.config(state=DISABLED)\n",
    "\n",
    "def Resnet50():\n",
    "    global learn, model_name\n",
    "    learn = cnn_learner(data, models.resnet50, metrics=accuracy)\n",
    "    model_name='scene-resnet50-model1'\n",
    "    try:\n",
    "        learn.load(model_name)\n",
    "        Terminal2.config(state=NORMAL)\n",
    "        Terminal2.delete('1.0', END)\n",
    "        Terminal2.insert(END, 'Resnet50 loaded!')\n",
    "        Terminal2.config(state=DISABLED)\n",
    "    except:\n",
    "        print(\"An exception occurred\")\n",
    "    \n",
    "    \n",
    "def Densenet121():\n",
    "    global learn, model_name\n",
    "    learn = cnn_learner(data, models.densenet121, metrics=accuracy)\n",
    "    model_name='scene-densenet121-model1'\n",
    "    try:\n",
    "        learn.load(model_name)\n",
    "        Terminal2.config(state=NORMAL)\n",
    "        Terminal2.delete('1.0', END)\n",
    "        Terminal2.insert(END, 'Densenest121 loaded!')\n",
    "        Terminal2.config(state=DISABLED)\n",
    "    except:\n",
    "        print(\"An exception occurred\")\n",
    "    \n",
    "def Vgg16():\n",
    "    global learn, model_name\n",
    "    learn = cnn_learner(data, models.vgg16_bn, metrics=accuracy)\n",
    "    model_name='scene-vgg16-model1'\n",
    "    try:\n",
    "        learn.load(model_name)\n",
    "        Terminal2.config(state=NORMAL)\n",
    "        Terminal2.delete('1.0', END)\n",
    "        Terminal2.insert(END, 'Vgg16 loaded!')\n",
    "        Terminal2.config(state=DISABLED)\n",
    "    except:\n",
    "        print(\"An exception occurred\")\n",
    "\n",
    "    \n",
    "def Resnet34():\n",
    "    global learn, model_name\n",
    "    learn = cnn_learner(data, models.resnet34, metrics=accuracy)\n",
    "    model_name='scene-res34-model1'\n",
    "    try:\n",
    "        learn.load(model_name)\n",
    "        Terminal2.config(state=NORMAL)\n",
    "        Terminal2.delete('1.0', END)\n",
    "        Terminal2.insert(END, 'Resnet34 loaded!')\n",
    "        Terminal2.config(state=DISABLED)\n",
    "    except:\n",
    "        print(\"An exception occurred\")\n",
    "    \n",
    "def GoBack():\n",
    "    frame2.pack_forget()\n",
    "    frame.pack()\n",
    "    \n",
    "\n",
    "Terminal1= tk.Text(frame,width=32, height=1, font=('Helvetica', '15', 'bold'))\n",
    "Terminal1.pack(side=tk.TOP)\n",
    "Terminal1.config(state=NORMAL)\n",
    "Terminal1.delete('1.0', END)\n",
    "Terminal1.insert(END, 'Terminal')\n",
    "Terminal1.config(state=DISABLED)\n",
    "#Terminal1.config(state=NORMAL)\n",
    "\n",
    "Terminal2= tk.Text(frame2,width=32, height=1, font=('Helvetica', '15', 'bold'))\n",
    "Terminal2.pack(side=tk.TOP)\n",
    "Terminal2.config(state=NORMAL)\n",
    "Terminal2.delete('1.0', END)\n",
    "Terminal2.insert(END, 'Terminal')\n",
    "Terminal2.config(state=DISABLED)\n",
    "\n",
    "img = ImageTk.PhotoImage(Image.open(r\"C:\\Users\\Bhushan\\Desktop\\DJ\\bhushan.jpg\").resize((350,350), Image.ANTIALIAS))\n",
    "l=Label(frame,image=img)\n",
    "l.pack(side=tk.TOP)\n",
    "\n",
    "imgLabel= tk.Text(frame,width=32, height=1, font=('Helvetica', '15', 'bold'))\n",
    "imgLabel.pack(side=tk.TOP)\n",
    "imgLabel.insert(END, 'Class Name')\n",
    "\n",
    "nextbackframe.pack(side=tk.TOP)\n",
    "NextImg = tk.Button(nextbackframe,width=14, height=2, font=('Helvetica', '15', 'bold'),\n",
    "                   text=\"Next\", bg='black', command=NextImg,\n",
    "                   fg=\"white\")\n",
    "NextImg.pack(side=tk.RIGHT)\n",
    "PrevImg = tk.Button(nextbackframe,width=14, height=2, font=('Helvetica', '15', 'bold'),\n",
    "                   text=\"Previous\", bg='black', command=PrevImg,\n",
    "                   fg=\"white\")\n",
    "PrevImg.pack(side=tk.LEFT)\n",
    "\n",
    "\n",
    "    \n",
    "Upload = tk.Button(frame,width=29, height=2, font=('Helvetica', '15', 'bold'),\n",
    "                   text=\"Upload\", bg='black', command=Upload,\n",
    "                   fg=\"white\")\n",
    "Upload.pack(side=tk.TOP)\n",
    "\n",
    "Classify = tk.Button(frame,width=29, height=2, font=('Helvetica', '15', 'bold'),\n",
    "                   text=\"Classify\", bg='black', command=Classify,\n",
    "                   fg=\"white\")\n",
    "Classify.pack(side=tk.TOP)\n",
    "\n",
    "Addandtrain = tk.Button(frame,width=29, height=2, font=('Helvetica', '15', 'bold'),\n",
    "                   text=\"Add and Train\", bg='black', command=Addandtrain,\n",
    "                   fg=\"white\")\n",
    "Addandtrain.pack(side=tk.TOP)\n",
    "\n",
    "Advance = tk.Button(frame,width=29, height=2, font=('Helvetica', '15', 'bold'),\n",
    "                   text=\"Advance\", bg='black', command=Advance,\n",
    "                   fg=\"white\")\n",
    "Advance.pack(side=tk.TOP)\n",
    "        \n",
    "Train = tk.Button(frame2,width=29, height=2, font=('Helvetica', '15', 'bold'),\n",
    "                   text=\"Train Model\", bg='black', command=Train,\n",
    "                    fg='white')\n",
    "Train.pack(side=tk.TOP)\n",
    "\n",
    "SaveModel = tk.Button(frame2,width=29, height=2, font=('Helvetica', '15', 'bold'),\n",
    "                   text=\"Save Model\", bg='black', command=SaveModel,\n",
    "                    fg='white')\n",
    "SaveModel.pack(side=tk.TOP)\n",
    "\n",
    "TextBox= tk.Text(frame2,width=32, height=1, font=('Helvetica', '15', 'bold'))\n",
    "TextBox.pack(side=tk.TOP)\n",
    "\n",
    "SetLR = tk.Button(frame2,width=29, height=2, font=('Helvetica', '15', 'bold'),\n",
    "                   text=\"Set LR and Train\", bg='black', command=SetLR,\n",
    "                    fg='white')\n",
    "SetLR.pack(side=tk.TOP)\n",
    "\n",
    "TextBoxEpoch= tk.Text(frame2,width=32, height=1, font=('Helvetica', '15', 'bold'))\n",
    "TextBoxEpoch.pack(side=tk.TOP)\n",
    "\n",
    "Epochs = tk.Button(frame2,width=29, height=2, font=('Helvetica', '15', 'bold'),\n",
    "                   text=\"Epochs\", bg='black', command=Epochs,\n",
    "                    fg='white')\n",
    "Epochs.pack(side=tk.TOP)\n",
    "\n",
    "NewData = tk.Button(frame2,width=29, height=2, font=('Helvetica', '15', 'bold'),\n",
    "                   text=\"New Data\", bg='black', command=NewData,\n",
    "                    fg='white')\n",
    "NewData.pack(side=tk.TOP)\n",
    "\n",
    "Resnet50 = tk.Button(frame2,width=29, height=2, font=('Helvetica', '15', 'bold'),\n",
    "                   text=\"Resnet50\", bg='black', command=Resnet50,\n",
    "                    fg='white')\n",
    "Resnet50.pack(side=tk.TOP)\n",
    "\n",
    "Vgg16 = tk.Button(frame2,width=29, height=2, font=('Helvetica', '15', 'bold'),\n",
    "                   text=\"Vgg16\", bg='black', command=Vgg16,\n",
    "                    fg='white')\n",
    "Vgg16.pack(side=tk.TOP)\n",
    "\n",
    "Densenet121 = tk.Button(frame2,width=29, height=2, font=('Helvetica', '15', 'bold'),\n",
    "                   text=\"Densenet\", bg='black', command=Densenet121,\n",
    "                    fg='white')\n",
    "Densenet121.pack(side=tk.TOP)\n",
    "\n",
    "\n",
    "Resnet34 = tk.Button(frame2,width=29, height=2, font=('Helvetica', '15', 'bold'),\n",
    "                   text=\"Resnet34\", bg='black', command=Resnet34,\n",
    "                    fg='white')\n",
    "Resnet34.pack(side=tk.TOP)\n",
    "\n",
    "GoBack = tk.Button(frame2,width=29, height=2, font=('Helvetica', '15', 'bold'),\n",
    "                   text=\"Back\", bg='black', command=GoBack,\n",
    "                   fg=\"white\")\n",
    "GoBack.pack(side=tk.TOP)\n",
    "\n",
    "frame.config(bg='white')\n",
    "root.mainloop()"
   ]
  },
  {
   "cell_type": "code",
   "execution_count": 19,
   "metadata": {},
   "outputs": [
    {
     "data": {
      "text/plain": [
       "[['C:/Users/Bhushan/Desktop/DJ/seg_test/seg_test/forest/20056.jpg', 'forest'],\n",
       " ['C:/Users/Bhushan/Desktop/DJ/seg_test/seg_test/forest/20062.jpg', 'forest'],\n",
       " ['C:/Users/Bhushan/Desktop/DJ/seg_test/seg_test/forest/20082.jpg', 'forest'],\n",
       " ['C:/Users/Bhushan/Desktop/DJ/seg_test/seg_test/forest/20089.jpg', 'forest'],\n",
       " ['C:/Users/Bhushan/Desktop/DJ/seg_test/seg_test/forest/20100.jpg', 'forest'],\n",
       " ['C:/Users/Bhushan/Desktop/DJ/seg_test/seg_test/forest/20108.jpg', 'forest'],\n",
       " ['C:/Users/Bhushan/Desktop/DJ/seg_test/seg_test/forest/20117.jpg', 'forest'],\n",
       " ['C:/Users/Bhushan/Desktop/DJ/seg_test/seg_test/forest/20134.jpg', 'forest'],\n",
       " ['C:/Users/Bhushan/Desktop/DJ/seg_test/seg_test/forest/20151.jpg', 'forest'],\n",
       " ['C:/Users/Bhushan/Desktop/DJ/seg_test/seg_test/forest/20159.jpg', 'forest'],\n",
       " ['C:/Users/Bhushan/Desktop/DJ/seg_test/seg_test/forest/20166.jpg', 'forest'],\n",
       " ['C:/Users/Bhushan/Desktop/DJ/seg_test/seg_test/forest/20173.jpg', 'forest']]"
      ]
     },
     "execution_count": 19,
     "metadata": {},
     "output_type": "execute_result"
    }
   ],
   "source": [
    "addVar"
   ]
  },
  {
   "cell_type": "code",
   "execution_count": 27,
   "metadata": {},
   "outputs": [
    {
     "name": "stdout",
     "output_type": "stream",
     "text": [
      "C:/Users/Bhushan/Desktop/DJ/seg_test/seg_test/forest/20056.jpg C:/Users/Bhushan/Desktop/DJ/tryfolder/forest\n"
     ]
    },
    {
     "data": {
      "text/plain": [
       "'C:/Users/Bhushan/Desktop/DJ/tryfolder/forest\\\\20056.jpg'"
      ]
     },
     "execution_count": 27,
     "metadata": {},
     "output_type": "execute_result"
    }
   ],
   "source": [
    "src= r'{}'.format(addVar[0][0])\n",
    "dst = 'C:/Users/Bhushan/Desktop/DJ/tryfolder/'+addVar[0][1]\n",
    "dst= r'{}'.format(dst)\n",
    "print(src,dst)\n",
    "shutil.copy2(src, dst)"
   ]
  },
  {
   "cell_type": "code",
   "execution_count": null,
   "metadata": {},
   "outputs": [],
   "source": []
  },
  {
   "cell_type": "code",
   "execution_count": null,
   "metadata": {},
   "outputs": [],
   "source": []
  },
  {
   "cell_type": "code",
   "execution_count": null,
   "metadata": {},
   "outputs": [],
   "source": []
  },
  {
   "cell_type": "code",
   "execution_count": null,
   "metadata": {},
   "outputs": [],
   "source": []
  },
  {
   "cell_type": "code",
   "execution_count": null,
   "metadata": {},
   "outputs": [],
   "source": []
  },
  {
   "cell_type": "code",
   "execution_count": null,
   "metadata": {},
   "outputs": [],
   "source": []
  },
  {
   "cell_type": "code",
   "execution_count": null,
   "metadata": {},
   "outputs": [],
   "source": []
  },
  {
   "cell_type": "code",
   "execution_count": null,
   "metadata": {},
   "outputs": [],
   "source": []
  },
  {
   "cell_type": "code",
   "execution_count": null,
   "metadata": {},
   "outputs": [],
   "source": []
  },
  {
   "cell_type": "code",
   "execution_count": null,
   "metadata": {},
   "outputs": [],
   "source": []
  },
  {
   "cell_type": "code",
   "execution_count": null,
   "metadata": {},
   "outputs": [],
   "source": []
  },
  {
   "cell_type": "code",
   "execution_count": null,
   "metadata": {},
   "outputs": [],
   "source": []
  },
  {
   "cell_type": "code",
   "execution_count": 6,
   "metadata": {},
   "outputs": [
    {
     "data": {
      "text/html": [],
      "text/plain": [
       "<IPython.core.display.HTML object>"
      ]
     },
     "metadata": {},
     "output_type": "display_data"
    },
    {
     "name": "stdout",
     "output_type": "stream",
     "text": [
      "LR Finder is complete, type {learner_name}.recorder.plot() to see the graph.\n"
     ]
    }
   ],
   "source": [
    "learn.lr_find()"
   ]
  },
  {
   "cell_type": "code",
   "execution_count": 8,
   "metadata": {},
   "outputs": [
    {
     "data": {
      "image/png": "[encoded data removed]",
      "text/plain": [
       "<Figure size 432x288 with 1 Axes>"
      ]
     },
     "metadata": {
      "needs_background": "light"
     },
     "output_type": "display_data"
    }
   ],
   "source": [
    "learn.recorder.plot()\n"
   ]
  },
  {
   "cell_type": "code",
   "execution_count": null,
   "metadata": {},
   "outputs": [],
   "source": []
  },
  {
   "cell_type": "code",
   "execution_count": null,
   "metadata": {},
   "outputs": [],
   "source": []
  },
  {
   "cell_type": "code",
   "execution_count": null,
   "metadata": {},
   "outputs": [],
   "source": []
  }
 ],
 "metadata": {
  "kernelspec": {
   "display_name": "Python 3",
   "language": "python",
   "name": "python3"
  },
  "language_info": {
   "codemirror_mode": {
    "name": "ipython",
    "version": 3
   },
   "file_extension": ".py",
   "mimetype": "text/x-python",
   "name": "python",
   "nbconvert_exporter": "python",
   "pygments_lexer": "ipython3",
   "version": "3.6.9"
  }
 },
 "nbformat": 4,
 "nbformat_minor": 2
}
